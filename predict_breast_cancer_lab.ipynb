{
 "cells": [
  {
   "cell_type": "code",
   "execution_count": 2,
   "id": "97a6458b",
   "metadata": {},
   "outputs": [
    {
     "name": "stdout",
     "output_type": "stream",
     "text": [
      "Naszym zadaniem jest wykorzystanie zbudowanego przez nas perceptronu do przewidywania czy guz jest złośliwy czy nie.\n",
      "result: 89.47368421052632\n"
     ]
    }
   ],
   "source": [
    "\n",
    "\n",
    "import numpy as np\n",
    "import pandas as pd\n",
    "from sklearn.preprocessing import StandardScaler\n",
    "from sklearn.model_selection import train_test_split\n",
    "from sklearn.linear_model import Perceptron\n",
    "\n",
    "#Dane opisują stan guzów nowotworowych oraz w kolumnie diagnosis informację o tym, czy guz był złośliwy (M) lub łagodny (B).\n",
    "\n",
    "\n",
    "\n",
    "print(\"Zadanie: wykorzystanie zbudowanego przez nas perceptronu do przewidywania czy guz jest złośliwy czy nie.\")\n",
    "\n",
    "diag = pd.read_csv(\"breast_cancer.csv\")\n",
    "#Do zmiennej y zapisz tylko kolumnę diagnostics i skonwertuj znajdujące się tam wartości \"M\" na 1, a pozostałe na 0\n",
    "X = diag[['area_mean', 'area_se', 'texture_mean', 'concavity_worst', 'concavity_mean']]\n",
    "y = y= diag['diagnosis']\n",
    "y = y.apply(lambda d: 1 if d == 'M' else -1)\n",
    "y\n",
    "\n",
    "#Zeskaluj dane znajdujące się w X i zapisz je do X_std\n",
    "scaler = StandardScaler()\n",
    "scaler.fit(X)\n",
    "X_std = scaler.transform(X)\n",
    "\n",
    "#Podziel dane na uczące i testowe (20% na dane testowe) i zapisz je w zmiennych: X_train, X_test, y_train, y_test\n",
    "X_train, X_test, y_train, y_test = train_test_split(X_std, y, test_size=0.2)\n",
    "\n",
    "#Zbuduj perceptron korzystając z wartości eta0=0.01, max_iter=100\n",
    "perceptron = Perceptron(eta0=0.01, max_iter=100)\n",
    "#Przećwicz perceptron na danych uczących\n",
    "perceptron.fit(X_train, y_train)\n",
    "#W zmiennej y_pred zapisz przewidywane przez perceptron wartości dla X_test\n",
    "y_pred = perceptron.predict(X_test)\n",
    "\n",
    "#Policz ile razy wartość została przewidziana poprawnie i wyświetl procent dobrych odpowiedzi.\n",
    "good = y_test[y_test==y_pred].count()\n",
    "total = y_test.count()\n",
    "print('result: {}'.format(100*good/total))\n",
    "\n",
    "\n"
   ]
  },
  {
   "cell_type": "code",
   "execution_count": null,
   "id": "af363d55",
   "metadata": {},
   "outputs": [],
   "source": []
  }
 ],
 "metadata": {
  "kernelspec": {
   "display_name": "Python 3 (ipykernel)",
   "language": "python",
   "name": "python3"
  },
  "language_info": {
   "codemirror_mode": {
    "name": "ipython",
    "version": 3
   },
   "file_extension": ".py",
   "mimetype": "text/x-python",
   "name": "python",
   "nbconvert_exporter": "python",
   "pygments_lexer": "ipython3",
   "version": "3.11.3"
  }
 },
 "nbformat": 4,
 "nbformat_minor": 5
}
